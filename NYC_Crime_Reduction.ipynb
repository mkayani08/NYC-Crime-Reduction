{
 "cells": [
  {
   "cell_type": "markdown",
   "id": "ae683b71",
   "metadata": {
    "id": "ae683b71"
   },
   "source": [
    "# NYC Crime Reduction Project"
   ]
  },
  {
   "cell_type": "markdown",
   "id": "PYVSRTY1yo59",
   "metadata": {
    "id": "PYVSRTY1yo59"
   },
   "source": []
  },
  {
   "cell_type": "code",
   "execution_count": null,
   "id": "f74dceb3",
   "metadata": {
    "id": "f74dceb3"
   },
   "outputs": [],
   "source": [
    "# import libraries\n",
    "import pandas as pd\n",
    "import numpy as np\n",
    "from sodapy import Socrata\n",
    "from google.cloud import bigquery\n",
    "from google.oauth2 import service_account"
   ]
  },
  {
   "cell_type": "code",
   "execution_count": null,
   "id": "56e06ef6",
   "metadata": {
    "id": "56e06ef6"
   },
   "outputs": [],
   "source": [
    "# setting up the host name for the API endpoint\n",
    "data_url = 'data.cityofnewyork.us'"
   ]
  },
  {
   "cell_type": "code",
   "execution_count": null,
   "id": "94827a7f",
   "metadata": {
    "id": "94827a7f",
    "outputId": "7c434344-8532-4f5f-e718-1d1878a75e1a"
   },
   "outputs": [
    {
     "name": "stdout",
     "output_type": "stream",
     "text": [
      "nyc open data client name is: <sodapy.socrata.Socrata object at 0x7fdbc6b05880>\n",
      "nyc open data client data type is: <class 'sodapy.socrata.Socrata'>\n"
     ]
    }
   ],
   "source": [
    "# create the client that points to the API endpoint\n",
    "nyc_open_data_client = Socrata(data_url, app_token, timeout = 200)\n",
    "print(f\"nyc open data client name is: {nyc_open_data_client}\")\n",
    "print(f\"nyc open data client data type is: {type(nyc_open_data_client)}\")"
   ]
  },
  {
   "cell_type": "code",
   "execution_count": null,
   "id": "766630bc",
   "metadata": {
    "id": "766630bc",
    "outputId": "5f7367e4-52a6-4e60-a3d4-679778fa761a"
   },
   "outputs": [
    {
     "name": "stdout",
     "output_type": "stream",
     "text": [
      "bigquery client name is: <google.cloud.bigquery.client.Client object at 0x7fdbffc4e670>\n",
      "bigquery client data type is: <class 'google.cloud.bigquery.client.Client'>\n"
     ]
    }
   ],
   "source": [
    "# setting up big query credentials\n",
    "\n",
    "credentials = service_account.Credentials.from_service_account_file(key_path,\n",
    "                                                                    scopes=[\"https://www.googleapis.com/auth/cloud-platform\"],)\n",
    "bigquery_client = bigquery.Client(credentials = credentials,\n",
    "                                 project = credentials.project_id)\n",
    "\n",
    "print(f\"bigquery client name is: {bigquery_client}\")\n",
    "print(f\"bigquery client data type is: {type(bigquery_client)}\")"
   ]
  },
  {
   "cell_type": "code",
   "execution_count": null,
   "id": "937f716a",
   "metadata": {
    "id": "937f716a",
    "outputId": "1d4587d2-0245-4de9-c4ff-a5474d8753ff"
   },
   "outputs": [
    {
     "name": "stdout",
     "output_type": "stream",
     "text": [
      "total records in 5uac-w243: 396978\n"
     ]
    }
   ],
   "source": [
    "# Get the total number of records in our the entire data set\n",
    "total_record_count = nyc_open_data_client.get(data_set, select = \"COUNT(*)\")\n",
    "print(f\"total records in {data_set}: {total_record_count[0]['COUNT']}\")"
   ]
  },
  {
   "cell_type": "code",
   "execution_count": null,
   "id": "1bfd6c8b",
   "metadata": {
    "id": "1bfd6c8b"
   },
   "outputs": [],
   "source": [
    "# Now, loop through target data set to pull all rows in chunks (we cannot pull all rows at once)\n",
    "# AGAIN, UPDATE WHERE FILTER INSIDE BELOW FUNCTION\n",
    "\n",
    "def extract_socrata_data(chunk_size = 2500,\n",
    "                         data_set = data_set,\n",
    "                         where = None):\n",
    "\n",
    "    # measure time this function takes\n",
    "    import time\n",
    "    start_time = time.time()\n",
    "\n",
    "    # get total number or records\n",
    "    if where == None:\n",
    "        total_records = int(nyc_open_data_client.get(data_set,\n",
    "                                                     select= \"COUNT(*)\")[0][\"COUNT\"])\n",
    "    else:\n",
    "        total_records = int(nyc_open_data_client.get(data_set,\n",
    "                                                     where = where,\n",
    "                                                     select= \"COUNT(*)\")[0][\"COUNT\"])\n",
    "\n",
    "    # start at 0, empty list for results\n",
    "    start = 0\n",
    "    results = []\n",
    "\n",
    "    while True:\n",
    "\n",
    "        if where == None:\n",
    "            # fetch the set of records starting at 'start'\n",
    "            results.extend(nyc_open_data_client.get(data_set,\n",
    "                                                    offset = start,\n",
    "                                                    limit = chunk_size))\n",
    "\n",
    "        elif where != None:\n",
    "            results.extend(nyc_open_data_client.get(data_set,\n",
    "                                                    where = where,\n",
    "                                                    offset = start,\n",
    "                                                    limit = chunk_size))\n",
    "        # update the starting record number\n",
    "        start = start + chunk_size\n",
    "\n",
    "        # if we have fetched all of the records (we have reached total_records), exit loop\n",
    "        if (start > total_records):\n",
    "            break\n",
    "\n",
    "    # convert the list into a pandas data frame\n",
    "    data = pd.DataFrame.from_records(results)\n",
    "\n",
    "    end_time = time.time()\n",
    "    print(f\"function took {round(end_time - start_time, 1)} seconds\")\n",
    "\n",
    "    print(f\"the shape of your dataframe is: {data.shape}\")\n",
    "    return data"
   ]
  },
  {
   "cell_type": "code",
   "execution_count": null,
   "id": "c195d89f",
   "metadata": {
    "id": "c195d89f",
    "outputId": "cd12282c-d5ec-4046-f23c-3cb38c8c34a7"
   },
   "outputs": [
    {
     "name": "stdout",
     "output_type": "stream",
     "text": [
      "function took 140.6 seconds\n",
      "the shape of your dataframe is: (396978, 41)\n"
     ]
    }
   ],
   "source": [
    "#CREATE DATAFRAME data HERE\n",
    "df = extract_socrata_data(chunk_size = 2500,\n",
    "                         data_set = data_set)"
   ]
  },
  {
   "cell_type": "code",
   "execution_count": null,
   "id": "cb5196b2",
   "metadata": {
    "id": "cb5196b2",
    "outputId": "df8bb7cd-dc59-4f08-a6a5-f7041846a6d3"
   },
   "outputs": [
    {
     "data": {
      "text/plain": [
       "Index(['cmplnt_num', 'addr_pct_cd', 'boro_nm', 'cmplnt_fr_dt', 'cmplnt_fr_tm',\n",
       "       'cmplnt_to_tm', 'crm_atpt_cptd_cd', 'hadevelopt', 'jurisdiction_code',\n",
       "       'juris_desc', 'ky_cd', 'law_cat_cd', 'loc_of_occur_desc', 'ofns_desc',\n",
       "       'parks_nm', 'patrol_boro', 'pd_cd', 'pd_desc', 'prem_typ_desc',\n",
       "       'rpt_dt', 'station_name', 'susp_age_group', 'susp_race', 'susp_sex',\n",
       "       'vic_age_group', 'vic_race', 'vic_sex', 'x_coord_cd', 'y_coord_cd',\n",
       "       'latitude', 'longitude', 'lat_lon', 'geocoded_column',\n",
       "       ':@computed_region_efsh_h5xi', ':@computed_region_f5dn_yrer',\n",
       "       ':@computed_region_yeji_bk3q', ':@computed_region_92fq_4b7q',\n",
       "       ':@computed_region_sbqj_enih', 'cmplnt_to_dt', 'housing_psa',\n",
       "       'transit_district'],\n",
       "      dtype='object')"
      ]
     },
     "execution_count": 54,
     "metadata": {},
     "output_type": "execute_result"
    }
   ],
   "source": [
    "#checking the names of our columns\n",
    "df.columns"
   ]
  },
  {
   "cell_type": "code",
   "execution_count": null,
   "id": "e43784f8",
   "metadata": {
    "id": "e43784f8",
    "outputId": "fa2df427-8a71-41da-e009-6b8dc2cd1c4d"
   },
   "outputs": [
    {
     "name": "stdout",
     "output_type": "stream",
     "text": [
      "columns left in dataframe: Index(['cmplnt_num', 'boro_nm', 'cmplnt_fr_dt', 'cmplnt_fr_tm', 'cmplnt_to_tm',\n",
      "       'crm_atpt_cptd_cd', 'law_cat_cd', 'pd_cd', 'pd_desc', 'susp_age_group',\n",
      "       'susp_race', 'susp_sex', 'vic_age_group', 'vic_race', 'vic_sex',\n",
      "       'latitude', 'longitude', 'cmplnt_to_dt'],\n",
      "      dtype='object')\n"
     ]
    }
   ],
   "source": [
    "# ACTION REQUIRED\n",
    "# edit the drop_columns list below to include all the columns you would like to drop\n",
    "# then, run this cell to drop columns\n",
    "\n",
    "drop_columns = [\"addr_pct_cd\", \"hadevelopt\", \"jurisdiction_code\", \"juris_desc\", \"ky_cd\",\n",
    "                \"loc_of_occur_desc\", \"ofns_desc\", \"parks_nm\", \"patrol_boro\", \"prem_typ_desc\",\n",
    "                \"rpt_dt\", \"station_name\", \"x_coord_cd\", \"y_coord_cd\", \"lat_lon\", \"geocoded_column\",\n",
    "                \":@computed_region_efsh_h5xi\", \":@computed_region_f5dn_yrer\", \":@computed_region_yeji_bk3q\",\n",
    "                \":@computed_region_92fq_4b7q\", \":@computed_region_sbqj_enih\", \"housing_psa\", \"transit_district\"]\n",
    "\n",
    "for column in drop_columns:\n",
    "    try:\n",
    "        df.drop(column, axis = 1, inplace = True)\n",
    "    except:\n",
    "        print(f\"unable to drop {column}\")\n",
    "\n",
    "print(f\"columns left in dataframe: {df.columns}\")"
   ]
  },
  {
   "cell_type": "code",
   "execution_count": null,
   "id": "af1ae578",
   "metadata": {
    "id": "af1ae578"
   },
   "outputs": [],
   "source": [
    "# creating and running a function to ceate data profiling dataframe\n",
    "\n",
    "def create_data_profiling_df(data):\n",
    "\n",
    "    # create an empty dataframe to gather information about each column\n",
    "    data_profiling_df = pd.DataFrame(columns = [\"column_name\",\n",
    "                                                \"column_type\",\n",
    "                                                \"unique_values\",\n",
    "                                                \"duplicate_values\",\n",
    "                                                \"null_values\",\n",
    "                                                \"non_null_values\"])\n",
    "\n",
    "    # loop through each column to add rows to the data_profiling_df dataframe\n",
    "    for column in data.columns:\n",
    "\n",
    "        info_dict = {}\n",
    "\n",
    "        try:\n",
    "            info_dict[\"column_name\"] = column\n",
    "            info_dict[\"column_type\"] = data[column].dtypes\n",
    "            info_dict[\"unique_values\"] = len(data[column].unique())\n",
    "            info_dict[\"duplicate_values\"] = data[column].count() - len(data[column].dropna().unique())\n",
    "            info_dict[\"null_values\"] = data[column].isna().sum()\n",
    "            info_dict[\"non_null_values\"] = data[column].count()\n",
    "\n",
    "        except:\n",
    "            print(f\"unable to read column: {column}, you may want to drop this column\")\n",
    "\n",
    "        data_profiling_df = data_profiling_df.append(info_dict, ignore_index=True)\n",
    "\n",
    "    data_profiling_df.sort_values(by = ['unique_values', \"non_null_values\"],\n",
    "                                  ascending = [False, False],\n",
    "                                  inplace=True)\n",
    "\n",
    "    return data_profiling_df"
   ]
  },
  {
   "cell_type": "code",
   "execution_count": null,
   "id": "911514a1",
   "metadata": {
    "id": "911514a1"
   },
   "outputs": [],
   "source": [
    "\n",
    "data_profiling_df = create_data_profiling_df(data = df)"
   ]
  },
  {
   "cell_type": "code",
   "execution_count": null,
   "id": "d46630b4",
   "metadata": {
    "id": "d46630b4",
    "outputId": "da55cc26-51ca-41a6-9c95-2f0334f51cc2"
   },
   "outputs": [
    {
     "data": {
      "text/html": [
       "<div>\n",
       "<style scoped>\n",
       "    .dataframe tbody tr th:only-of-type {\n",
       "        vertical-align: middle;\n",
       "    }\n",
       "\n",
       "    .dataframe tbody tr th {\n",
       "        vertical-align: top;\n",
       "    }\n",
       "\n",
       "    .dataframe thead th {\n",
       "        text-align: right;\n",
       "    }\n",
       "</style>\n",
       "<table border=\"1\" class=\"dataframe\">\n",
       "  <thead>\n",
       "    <tr style=\"text-align: right;\">\n",
       "      <th></th>\n",
       "      <th>column_name</th>\n",
       "      <th>column_type</th>\n",
       "      <th>unique_values</th>\n",
       "      <th>duplicate_values</th>\n",
       "      <th>null_values</th>\n",
       "      <th>non_null_values</th>\n",
       "    </tr>\n",
       "  </thead>\n",
       "  <tbody>\n",
       "    <tr>\n",
       "      <th>0</th>\n",
       "      <td>cmplnt_num</td>\n",
       "      <td>object</td>\n",
       "      <td>396865</td>\n",
       "      <td>113</td>\n",
       "      <td>0</td>\n",
       "      <td>396978</td>\n",
       "    </tr>\n",
       "    <tr>\n",
       "      <th>16</th>\n",
       "      <td>longitude</td>\n",
       "      <td>object</td>\n",
       "      <td>57762</td>\n",
       "      <td>339208</td>\n",
       "      <td>9</td>\n",
       "      <td>396969</td>\n",
       "    </tr>\n",
       "    <tr>\n",
       "      <th>15</th>\n",
       "      <td>latitude</td>\n",
       "      <td>object</td>\n",
       "      <td>57387</td>\n",
       "      <td>339583</td>\n",
       "      <td>9</td>\n",
       "      <td>396969</td>\n",
       "    </tr>\n",
       "    <tr>\n",
       "      <th>2</th>\n",
       "      <td>cmplnt_fr_dt</td>\n",
       "      <td>object</td>\n",
       "      <td>1785</td>\n",
       "      <td>395193</td>\n",
       "      <td>0</td>\n",
       "      <td>396978</td>\n",
       "    </tr>\n",
       "    <tr>\n",
       "      <th>4</th>\n",
       "      <td>cmplnt_to_tm</td>\n",
       "      <td>object</td>\n",
       "      <td>1441</td>\n",
       "      <td>395537</td>\n",
       "      <td>0</td>\n",
       "      <td>396978</td>\n",
       "    </tr>\n",
       "    <tr>\n",
       "      <th>3</th>\n",
       "      <td>cmplnt_fr_tm</td>\n",
       "      <td>object</td>\n",
       "      <td>1440</td>\n",
       "      <td>395538</td>\n",
       "      <td>0</td>\n",
       "      <td>396978</td>\n",
       "    </tr>\n",
       "    <tr>\n",
       "      <th>17</th>\n",
       "      <td>cmplnt_to_dt</td>\n",
       "      <td>object</td>\n",
       "      <td>1226</td>\n",
       "      <td>366360</td>\n",
       "      <td>29393</td>\n",
       "      <td>367585</td>\n",
       "    </tr>\n",
       "    <tr>\n",
       "      <th>7</th>\n",
       "      <td>pd_cd</td>\n",
       "      <td>object</td>\n",
       "      <td>361</td>\n",
       "      <td>396178</td>\n",
       "      <td>440</td>\n",
       "      <td>396538</td>\n",
       "    </tr>\n",
       "    <tr>\n",
       "      <th>8</th>\n",
       "      <td>pd_desc</td>\n",
       "      <td>object</td>\n",
       "      <td>351</td>\n",
       "      <td>396627</td>\n",
       "      <td>0</td>\n",
       "      <td>396978</td>\n",
       "    </tr>\n",
       "    <tr>\n",
       "      <th>12</th>\n",
       "      <td>vic_age_group</td>\n",
       "      <td>object</td>\n",
       "      <td>24</td>\n",
       "      <td>396954</td>\n",
       "      <td>0</td>\n",
       "      <td>396978</td>\n",
       "    </tr>\n",
       "    <tr>\n",
       "      <th>9</th>\n",
       "      <td>susp_age_group</td>\n",
       "      <td>object</td>\n",
       "      <td>21</td>\n",
       "      <td>396957</td>\n",
       "      <td>0</td>\n",
       "      <td>396978</td>\n",
       "    </tr>\n",
       "    <tr>\n",
       "      <th>10</th>\n",
       "      <td>susp_race</td>\n",
       "      <td>object</td>\n",
       "      <td>8</td>\n",
       "      <td>396970</td>\n",
       "      <td>0</td>\n",
       "      <td>396978</td>\n",
       "    </tr>\n",
       "    <tr>\n",
       "      <th>13</th>\n",
       "      <td>vic_race</td>\n",
       "      <td>object</td>\n",
       "      <td>8</td>\n",
       "      <td>396970</td>\n",
       "      <td>0</td>\n",
       "      <td>396978</td>\n",
       "    </tr>\n",
       "    <tr>\n",
       "      <th>1</th>\n",
       "      <td>boro_nm</td>\n",
       "      <td>object</td>\n",
       "      <td>6</td>\n",
       "      <td>396972</td>\n",
       "      <td>0</td>\n",
       "      <td>396978</td>\n",
       "    </tr>\n",
       "    <tr>\n",
       "      <th>14</th>\n",
       "      <td>vic_sex</td>\n",
       "      <td>object</td>\n",
       "      <td>5</td>\n",
       "      <td>396973</td>\n",
       "      <td>0</td>\n",
       "      <td>396978</td>\n",
       "    </tr>\n",
       "    <tr>\n",
       "      <th>11</th>\n",
       "      <td>susp_sex</td>\n",
       "      <td>object</td>\n",
       "      <td>4</td>\n",
       "      <td>396974</td>\n",
       "      <td>0</td>\n",
       "      <td>396978</td>\n",
       "    </tr>\n",
       "    <tr>\n",
       "      <th>6</th>\n",
       "      <td>law_cat_cd</td>\n",
       "      <td>object</td>\n",
       "      <td>3</td>\n",
       "      <td>396975</td>\n",
       "      <td>0</td>\n",
       "      <td>396978</td>\n",
       "    </tr>\n",
       "    <tr>\n",
       "      <th>5</th>\n",
       "      <td>crm_atpt_cptd_cd</td>\n",
       "      <td>object</td>\n",
       "      <td>2</td>\n",
       "      <td>396976</td>\n",
       "      <td>0</td>\n",
       "      <td>396978</td>\n",
       "    </tr>\n",
       "  </tbody>\n",
       "</table>\n",
       "</div>"
      ],
      "text/plain": [
       "         column_name column_type unique_values duplicate_values null_values  \\\n",
       "0         cmplnt_num      object        396865              113           0   \n",
       "16         longitude      object         57762           339208           9   \n",
       "15          latitude      object         57387           339583           9   \n",
       "2       cmplnt_fr_dt      object          1785           395193           0   \n",
       "4       cmplnt_to_tm      object          1441           395537           0   \n",
       "3       cmplnt_fr_tm      object          1440           395538           0   \n",
       "17      cmplnt_to_dt      object          1226           366360       29393   \n",
       "7              pd_cd      object           361           396178         440   \n",
       "8            pd_desc      object           351           396627           0   \n",
       "12     vic_age_group      object            24           396954           0   \n",
       "9     susp_age_group      object            21           396957           0   \n",
       "10         susp_race      object             8           396970           0   \n",
       "13          vic_race      object             8           396970           0   \n",
       "1            boro_nm      object             6           396972           0   \n",
       "14           vic_sex      object             5           396973           0   \n",
       "11          susp_sex      object             4           396974           0   \n",
       "6         law_cat_cd      object             3           396975           0   \n",
       "5   crm_atpt_cptd_cd      object             2           396976           0   \n",
       "\n",
       "   non_null_values  \n",
       "0           396978  \n",
       "16          396969  \n",
       "15          396969  \n",
       "2           396978  \n",
       "4           396978  \n",
       "3           396978  \n",
       "17          367585  \n",
       "7           396538  \n",
       "8           396978  \n",
       "12          396978  \n",
       "9           396978  \n",
       "10          396978  \n",
       "13          396978  \n",
       "1           396978  \n",
       "14          396978  \n",
       "11          396978  \n",
       "6           396978  \n",
       "5           396978  "
      ]
     },
     "execution_count": 58,
     "metadata": {},
     "output_type": "execute_result"
    }
   ],
   "source": [
    "data_profiling_df"
   ]
  },
  {
   "cell_type": "code",
   "execution_count": null,
   "id": "e33d74ac",
   "metadata": {
    "id": "e33d74ac"
   },
   "outputs": [],
   "source": [
    "#Creating the suspect dimension, first we copy the df\n",
    "SuspectDim = df.copy()"
   ]
  },
  {
   "cell_type": "code",
   "execution_count": null,
   "id": "d1af16c9",
   "metadata": {
    "id": "d1af16c9"
   },
   "outputs": [],
   "source": [
    "#Now, subset for only the wanted columns in the dimension\n",
    "SuspectDim = SuspectDim[[\"susp_sex\", \"susp_age_group\", \"susp_race\"]]"
   ]
  },
  {
   "cell_type": "code",
   "execution_count": null,
   "id": "fbc823e9",
   "metadata": {
    "id": "fbc823e9",
    "outputId": "b0d1d194-51f7-4aee-95d1-27cdbe427abf"
   },
   "outputs": [
    {
     "data": {
      "text/html": [
       "<div>\n",
       "<style scoped>\n",
       "    .dataframe tbody tr th:only-of-type {\n",
       "        vertical-align: middle;\n",
       "    }\n",
       "\n",
       "    .dataframe tbody tr th {\n",
       "        vertical-align: top;\n",
       "    }\n",
       "\n",
       "    .dataframe thead th {\n",
       "        text-align: right;\n",
       "    }\n",
       "</style>\n",
       "<table border=\"1\" class=\"dataframe\">\n",
       "  <thead>\n",
       "    <tr style=\"text-align: right;\">\n",
       "      <th></th>\n",
       "      <th>susp_id</th>\n",
       "      <th>susp_sex</th>\n",
       "      <th>susp_age_group</th>\n",
       "      <th>susp_race</th>\n",
       "    </tr>\n",
       "  </thead>\n",
       "  <tbody>\n",
       "    <tr>\n",
       "      <th>0</th>\n",
       "      <td>1</td>\n",
       "      <td>M</td>\n",
       "      <td>25-44</td>\n",
       "      <td>BLACK</td>\n",
       "    </tr>\n",
       "    <tr>\n",
       "      <th>1</th>\n",
       "      <td>2</td>\n",
       "      <td>U</td>\n",
       "      <td>25-44</td>\n",
       "      <td>UNKNOWN</td>\n",
       "    </tr>\n",
       "    <tr>\n",
       "      <th>2</th>\n",
       "      <td>3</td>\n",
       "      <td>(null)</td>\n",
       "      <td>(null)</td>\n",
       "      <td>(null)</td>\n",
       "    </tr>\n",
       "    <tr>\n",
       "      <th>3</th>\n",
       "      <td>4</td>\n",
       "      <td>(null)</td>\n",
       "      <td>(null)</td>\n",
       "      <td>(null)</td>\n",
       "    </tr>\n",
       "    <tr>\n",
       "      <th>4</th>\n",
       "      <td>5</td>\n",
       "      <td>(null)</td>\n",
       "      <td>(null)</td>\n",
       "      <td>(null)</td>\n",
       "    </tr>\n",
       "  </tbody>\n",
       "</table>\n",
       "</div>"
      ],
      "text/plain": [
       "   susp_id susp_sex susp_age_group susp_race\n",
       "0        1        M          25-44     BLACK\n",
       "1        2        U          25-44   UNKNOWN\n",
       "2        3   (null)         (null)    (null)\n",
       "3        4   (null)         (null)    (null)\n",
       "4        5   (null)         (null)    (null)"
      ]
     },
     "execution_count": 61,
     "metadata": {},
     "output_type": "execute_result"
    }
   ],
   "source": [
    "# Now, add SUSP_ID as a surrogate key\n",
    "SuspectDim.insert(0, 'susp_id', range(1, 1 + len(SuspectDim)))\n",
    "SuspectDim.head()"
   ]
  },
  {
   "cell_type": "code",
   "execution_count": null,
   "id": "5c3f8bd7",
   "metadata": {
    "id": "5c3f8bd7"
   },
   "outputs": [],
   "source": [
    "# Creating the Victim Dimension, first we copy the df\n",
    "VictimDim = df.copy()"
   ]
  },
  {
   "cell_type": "code",
   "execution_count": null,
   "id": "2902badb",
   "metadata": {
    "id": "2902badb"
   },
   "outputs": [],
   "source": [
    "#Now, subset for only the wanted columns in the dimension\n",
    "VictimDim = VictimDim[[\"vic_sex\", \"vic_age_group\", \"vic_race\"]]"
   ]
  },
  {
   "cell_type": "code",
   "execution_count": null,
   "id": "40ac7d8c",
   "metadata": {
    "id": "40ac7d8c",
    "outputId": "cd8f73c3-a1cd-47e4-eba3-8a6a22e0ee61"
   },
   "outputs": [
    {
     "data": {
      "text/html": [
       "<div>\n",
       "<style scoped>\n",
       "    .dataframe tbody tr th:only-of-type {\n",
       "        vertical-align: middle;\n",
       "    }\n",
       "\n",
       "    .dataframe tbody tr th {\n",
       "        vertical-align: top;\n",
       "    }\n",
       "\n",
       "    .dataframe thead th {\n",
       "        text-align: right;\n",
       "    }\n",
       "</style>\n",
       "<table border=\"1\" class=\"dataframe\">\n",
       "  <thead>\n",
       "    <tr style=\"text-align: right;\">\n",
       "      <th></th>\n",
       "      <th>vic_id</th>\n",
       "      <th>vic_sex</th>\n",
       "      <th>vic_age_group</th>\n",
       "      <th>vic_race</th>\n",
       "    </tr>\n",
       "  </thead>\n",
       "  <tbody>\n",
       "    <tr>\n",
       "      <th>0</th>\n",
       "      <td>1</td>\n",
       "      <td>D</td>\n",
       "      <td>UNKNOWN</td>\n",
       "      <td>UNKNOWN</td>\n",
       "    </tr>\n",
       "    <tr>\n",
       "      <th>1</th>\n",
       "      <td>2</td>\n",
       "      <td>F</td>\n",
       "      <td>&lt;18</td>\n",
       "      <td>BLACK</td>\n",
       "    </tr>\n",
       "    <tr>\n",
       "      <th>2</th>\n",
       "      <td>3</td>\n",
       "      <td>M</td>\n",
       "      <td>18-24</td>\n",
       "      <td>ASIAN / PACIFIC ISLANDER</td>\n",
       "    </tr>\n",
       "    <tr>\n",
       "      <th>3</th>\n",
       "      <td>4</td>\n",
       "      <td>M</td>\n",
       "      <td>45-64</td>\n",
       "      <td>WHITE</td>\n",
       "    </tr>\n",
       "    <tr>\n",
       "      <th>4</th>\n",
       "      <td>5</td>\n",
       "      <td>M</td>\n",
       "      <td>65+</td>\n",
       "      <td>BLACK</td>\n",
       "    </tr>\n",
       "  </tbody>\n",
       "</table>\n",
       "</div>"
      ],
      "text/plain": [
       "   vic_id vic_sex vic_age_group                  vic_race\n",
       "0       1       D       UNKNOWN                   UNKNOWN\n",
       "1       2       F           <18                     BLACK\n",
       "2       3       M         18-24  ASIAN / PACIFIC ISLANDER\n",
       "3       4       M         45-64                     WHITE\n",
       "4       5       M           65+                     BLACK"
      ]
     },
     "execution_count": 64,
     "metadata": {},
     "output_type": "execute_result"
    }
   ],
   "source": [
    "# Now, add VIC_ID as a surrogate key\n",
    "VictimDim.insert(0, 'vic_id', range(1, 1 + len(VictimDim)))\n",
    "VictimDim.head()"
   ]
  },
  {
   "cell_type": "code",
   "execution_count": null,
   "id": "0cf8b6a1",
   "metadata": {
    "id": "0cf8b6a1"
   },
   "outputs": [],
   "source": [
    "# Creating the date dimension, first, copy the entire table\n",
    "DateDim = df.copy()"
   ]
  },
  {
   "cell_type": "code",
   "execution_count": null,
   "id": "57be19ab",
   "metadata": {
    "id": "57be19ab"
   },
   "outputs": [],
   "source": [
    "#Now, subset for only the wanted columns in the dimension\n",
    "DateDim  = DateDim[[\"cmplnt_fr_dt\", \"cmplnt_to_dt\"]]"
   ]
  },
  {
   "cell_type": "code",
   "execution_count": null,
   "id": "6016a8c5",
   "metadata": {
    "id": "6016a8c5",
    "outputId": "d4ebd478-b649-4d7a-cef9-335a45a2ffae"
   },
   "outputs": [
    {
     "data": {
      "text/html": [
       "<div>\n",
       "<style scoped>\n",
       "    .dataframe tbody tr th:only-of-type {\n",
       "        vertical-align: middle;\n",
       "    }\n",
       "\n",
       "    .dataframe tbody tr th {\n",
       "        vertical-align: top;\n",
       "    }\n",
       "\n",
       "    .dataframe thead th {\n",
       "        text-align: right;\n",
       "    }\n",
       "</style>\n",
       "<table border=\"1\" class=\"dataframe\">\n",
       "  <thead>\n",
       "    <tr style=\"text-align: right;\">\n",
       "      <th></th>\n",
       "      <th>date_id</th>\n",
       "      <th>cmplnt_fr_dt</th>\n",
       "      <th>cmplnt_to_dt</th>\n",
       "    </tr>\n",
       "  </thead>\n",
       "  <tbody>\n",
       "    <tr>\n",
       "      <th>0</th>\n",
       "      <td>1000</td>\n",
       "      <td>2022-07-11T00:00:00.000</td>\n",
       "      <td>NaN</td>\n",
       "    </tr>\n",
       "    <tr>\n",
       "      <th>1</th>\n",
       "      <td>1001</td>\n",
       "      <td>2021-01-01T00:00:00.000</td>\n",
       "      <td>2022-09-07T00:00:00.000</td>\n",
       "    </tr>\n",
       "    <tr>\n",
       "      <th>2</th>\n",
       "      <td>1002</td>\n",
       "      <td>2021-12-24T00:00:00.000</td>\n",
       "      <td>2022-01-03T00:00:00.000</td>\n",
       "    </tr>\n",
       "    <tr>\n",
       "      <th>3</th>\n",
       "      <td>1003</td>\n",
       "      <td>2015-06-15T00:00:00.000</td>\n",
       "      <td>2022-07-13T00:00:00.000</td>\n",
       "    </tr>\n",
       "    <tr>\n",
       "      <th>4</th>\n",
       "      <td>1004</td>\n",
       "      <td>2018-01-01T00:00:00.000</td>\n",
       "      <td>2021-04-14T00:00:00.000</td>\n",
       "    </tr>\n",
       "  </tbody>\n",
       "</table>\n",
       "</div>"
      ],
      "text/plain": [
       "   date_id             cmplnt_fr_dt             cmplnt_to_dt\n",
       "0     1000  2022-07-11T00:00:00.000                      NaN\n",
       "1     1001  2021-01-01T00:00:00.000  2022-09-07T00:00:00.000\n",
       "2     1002  2021-12-24T00:00:00.000  2022-01-03T00:00:00.000\n",
       "3     1003  2015-06-15T00:00:00.000  2022-07-13T00:00:00.000\n",
       "4     1004  2018-01-01T00:00:00.000  2021-04-14T00:00:00.000"
      ]
     },
     "execution_count": 67,
     "metadata": {},
     "output_type": "execute_result"
    }
   ],
   "source": [
    "# add a surrogate key\n",
    "DateDim.insert(0, 'date_id', range(1000, 1000 + len(DateDim)))\n",
    "DateDim.head()"
   ]
  },
  {
   "cell_type": "code",
   "execution_count": null,
   "id": "e5b435b6",
   "metadata": {
    "id": "e5b435b6"
   },
   "outputs": [],
   "source": [
    "#Creating time dimension\n",
    "TimeDim = df.copy()"
   ]
  },
  {
   "cell_type": "code",
   "execution_count": null,
   "id": "fede820e",
   "metadata": {
    "id": "fede820e"
   },
   "outputs": [],
   "source": [
    "TimeDim  = TimeDim[[\"cmplnt_fr_tm\", \"cmplnt_to_tm\"]]"
   ]
  },
  {
   "cell_type": "code",
   "execution_count": null,
   "id": "d247f5be",
   "metadata": {
    "id": "d247f5be",
    "outputId": "ec73061a-dd73-4897-fbc3-eb5159462607"
   },
   "outputs": [
    {
     "data": {
      "text/html": [
       "<div>\n",
       "<style scoped>\n",
       "    .dataframe tbody tr th:only-of-type {\n",
       "        vertical-align: middle;\n",
       "    }\n",
       "\n",
       "    .dataframe tbody tr th {\n",
       "        vertical-align: top;\n",
       "    }\n",
       "\n",
       "    .dataframe thead th {\n",
       "        text-align: right;\n",
       "    }\n",
       "</style>\n",
       "<table border=\"1\" class=\"dataframe\">\n",
       "  <thead>\n",
       "    <tr style=\"text-align: right;\">\n",
       "      <th></th>\n",
       "      <th>time_id</th>\n",
       "      <th>cmplnt_fr_tm</th>\n",
       "      <th>cmplnt_to_tm</th>\n",
       "    </tr>\n",
       "  </thead>\n",
       "  <tbody>\n",
       "    <tr>\n",
       "      <th>0</th>\n",
       "      <td>1000</td>\n",
       "      <td>09:09:00</td>\n",
       "      <td>(null)</td>\n",
       "    </tr>\n",
       "    <tr>\n",
       "      <th>1</th>\n",
       "      <td>1001</td>\n",
       "      <td>12:00:00</td>\n",
       "      <td>12:00:00</td>\n",
       "    </tr>\n",
       "    <tr>\n",
       "      <th>2</th>\n",
       "      <td>1002</td>\n",
       "      <td>08:00:00</td>\n",
       "      <td>08:00:00</td>\n",
       "    </tr>\n",
       "    <tr>\n",
       "      <th>3</th>\n",
       "      <td>1003</td>\n",
       "      <td>00:01:00</td>\n",
       "      <td>17:00:00</td>\n",
       "    </tr>\n",
       "    <tr>\n",
       "      <th>4</th>\n",
       "      <td>1004</td>\n",
       "      <td>09:00:00</td>\n",
       "      <td>23:59:00</td>\n",
       "    </tr>\n",
       "  </tbody>\n",
       "</table>\n",
       "</div>"
      ],
      "text/plain": [
       "   time_id cmplnt_fr_tm cmplnt_to_tm\n",
       "0     1000     09:09:00       (null)\n",
       "1     1001     12:00:00     12:00:00\n",
       "2     1002     08:00:00     08:00:00\n",
       "3     1003     00:01:00     17:00:00\n",
       "4     1004     09:00:00     23:59:00"
      ]
     },
     "execution_count": 70,
     "metadata": {},
     "output_type": "execute_result"
    }
   ],
   "source": [
    "# add a surrogate key\n",
    "TimeDim.insert(0, 'time_id', range(1000, 1000 + len(TimeDim)))\n",
    "TimeDim.head()"
   ]
  },
  {
   "cell_type": "code",
   "execution_count": null,
   "id": "5aedf7af",
   "metadata": {
    "id": "5aedf7af"
   },
   "outputs": [],
   "source": [
    "# Creating the offense dimension, first, copy the entire table\n",
    "OffenseDim = df.copy()"
   ]
  },
  {
   "cell_type": "code",
   "execution_count": null,
   "id": "9fed6cd1",
   "metadata": {
    "id": "9fed6cd1"
   },
   "outputs": [],
   "source": [
    "#Now, subset for only the wanted columns in the dimension\n",
    "OffenseDim = OffenseDim[['law_cat_cd', 'pd_cd', 'pd_desc']]"
   ]
  },
  {
   "cell_type": "code",
   "execution_count": null,
   "id": "35fee1bf",
   "metadata": {
    "id": "35fee1bf",
    "outputId": "300d1ffb-907d-4a0e-a345-d0bc9d457044"
   },
   "outputs": [
    {
     "data": {
      "text/html": [
       "<div>\n",
       "<style scoped>\n",
       "    .dataframe tbody tr th:only-of-type {\n",
       "        vertical-align: middle;\n",
       "    }\n",
       "\n",
       "    .dataframe tbody tr th {\n",
       "        vertical-align: top;\n",
       "    }\n",
       "\n",
       "    .dataframe thead th {\n",
       "        text-align: right;\n",
       "    }\n",
       "</style>\n",
       "<table border=\"1\" class=\"dataframe\">\n",
       "  <thead>\n",
       "    <tr style=\"text-align: right;\">\n",
       "      <th></th>\n",
       "      <th>Offense_id</th>\n",
       "      <th>law_cat_cd</th>\n",
       "      <th>pd_cd</th>\n",
       "      <th>pd_desc</th>\n",
       "    </tr>\n",
       "  </thead>\n",
       "  <tbody>\n",
       "    <tr>\n",
       "      <th>0</th>\n",
       "      <td>100</td>\n",
       "      <td>FELONY</td>\n",
       "      <td>361</td>\n",
       "      <td>ROBBERY,BANK</td>\n",
       "    </tr>\n",
       "    <tr>\n",
       "      <th>1</th>\n",
       "      <td>101</td>\n",
       "      <td>FELONY</td>\n",
       "      <td>155</td>\n",
       "      <td>RAPE 2</td>\n",
       "    </tr>\n",
       "    <tr>\n",
       "      <th>2</th>\n",
       "      <td>102</td>\n",
       "      <td>FELONY</td>\n",
       "      <td>424</td>\n",
       "      <td>LARCENY,GRAND BY CREDIT CARD ACCT COMPROMISE-E...</td>\n",
       "    </tr>\n",
       "    <tr>\n",
       "      <th>3</th>\n",
       "      <td>103</td>\n",
       "      <td>FELONY</td>\n",
       "      <td>739</td>\n",
       "      <td>FRAUD,UNCLASSIFIED-FELONY</td>\n",
       "    </tr>\n",
       "    <tr>\n",
       "      <th>4</th>\n",
       "      <td>104</td>\n",
       "      <td>FELONY</td>\n",
       "      <td>739</td>\n",
       "      <td>FRAUD,UNCLASSIFIED-FELONY</td>\n",
       "    </tr>\n",
       "  </tbody>\n",
       "</table>\n",
       "</div>"
      ],
      "text/plain": [
       "   Offense_id law_cat_cd pd_cd  \\\n",
       "0         100     FELONY   361   \n",
       "1         101     FELONY   155   \n",
       "2         102     FELONY   424   \n",
       "3         103     FELONY   739   \n",
       "4         104     FELONY   739   \n",
       "\n",
       "                                             pd_desc  \n",
       "0                                       ROBBERY,BANK  \n",
       "1                                             RAPE 2  \n",
       "2  LARCENY,GRAND BY CREDIT CARD ACCT COMPROMISE-E...  \n",
       "3                          FRAUD,UNCLASSIFIED-FELONY  \n",
       "4                          FRAUD,UNCLASSIFIED-FELONY  "
      ]
     },
     "execution_count": 73,
     "metadata": {},
     "output_type": "execute_result"
    }
   ],
   "source": [
    "# Now, add offense_id as a surrogate key\n",
    "OffenseDim.insert(0, 'Offense_id', range(100, 100 + len(OffenseDim)))\n",
    "OffenseDim.head()"
   ]
  },
  {
   "cell_type": "code",
   "execution_count": null,
   "id": "ec20813c",
   "metadata": {
    "id": "ec20813c"
   },
   "outputs": [],
   "source": [
    "#Creating the location dimension, first, copy the entire table\n",
    "LocationDim = df.copy()"
   ]
  },
  {
   "cell_type": "code",
   "execution_count": null,
   "id": "37acbc2b",
   "metadata": {
    "id": "37acbc2b"
   },
   "outputs": [],
   "source": [
    "#Now, subset for only the wanted columns in the dimension\n",
    "LocationDim = LocationDim[['latitude', 'longitude', 'boro_nm']]"
   ]
  },
  {
   "cell_type": "code",
   "execution_count": null,
   "id": "dff28c39",
   "metadata": {
    "id": "dff28c39",
    "outputId": "9fe1a3b4-5628-43fa-a1fa-c6ec93485ce0"
   },
   "outputs": [
    {
     "data": {
      "text/html": [
       "<div>\n",
       "<style scoped>\n",
       "    .dataframe tbody tr th:only-of-type {\n",
       "        vertical-align: middle;\n",
       "    }\n",
       "\n",
       "    .dataframe tbody tr th {\n",
       "        vertical-align: top;\n",
       "    }\n",
       "\n",
       "    .dataframe thead th {\n",
       "        text-align: right;\n",
       "    }\n",
       "</style>\n",
       "<table border=\"1\" class=\"dataframe\">\n",
       "  <thead>\n",
       "    <tr style=\"text-align: right;\">\n",
       "      <th></th>\n",
       "      <th>Location_id</th>\n",
       "      <th>latitude</th>\n",
       "      <th>longitude</th>\n",
       "      <th>boro_nm</th>\n",
       "    </tr>\n",
       "  </thead>\n",
       "  <tbody>\n",
       "    <tr>\n",
       "      <th>0</th>\n",
       "      <td>111000</td>\n",
       "      <td>40.833567</td>\n",
       "      <td>-73.861118</td>\n",
       "      <td>BRONX</td>\n",
       "    </tr>\n",
       "    <tr>\n",
       "      <th>1</th>\n",
       "      <td>111001</td>\n",
       "      <td>40.6488507469884</td>\n",
       "      <td>-73.951016510623</td>\n",
       "      <td>BROOKLYN</td>\n",
       "    </tr>\n",
       "    <tr>\n",
       "      <th>2</th>\n",
       "      <td>111002</td>\n",
       "      <td>40.619768</td>\n",
       "      <td>-74.08407</td>\n",
       "      <td>STATEN ISLAND</td>\n",
       "    </tr>\n",
       "    <tr>\n",
       "      <th>3</th>\n",
       "      <td>111003</td>\n",
       "      <td>40.749791</td>\n",
       "      <td>-73.893792</td>\n",
       "      <td>QUEENS</td>\n",
       "    </tr>\n",
       "    <tr>\n",
       "      <th>4</th>\n",
       "      <td>111004</td>\n",
       "      <td>40.671636</td>\n",
       "      <td>-73.863359</td>\n",
       "      <td>BROOKLYN</td>\n",
       "    </tr>\n",
       "  </tbody>\n",
       "</table>\n",
       "</div>"
      ],
      "text/plain": [
       "   Location_id          latitude         longitude        boro_nm\n",
       "0       111000         40.833567        -73.861118          BRONX\n",
       "1       111001  40.6488507469884  -73.951016510623       BROOKLYN\n",
       "2       111002         40.619768         -74.08407  STATEN ISLAND\n",
       "3       111003         40.749791        -73.893792         QUEENS\n",
       "4       111004         40.671636        -73.863359       BROOKLYN"
      ]
     },
     "execution_count": 76,
     "metadata": {},
     "output_type": "execute_result"
    }
   ],
   "source": [
    "# Now, add location_id as a surrogate key\n",
    "LocationDim.insert(0, 'Location_id', range(111000, 111000 + len(LocationDim)))\n",
    "LocationDim.head()"
   ]
  },
  {
   "cell_type": "code",
   "execution_count": null,
   "id": "3a27c087",
   "metadata": {
    "id": "3a27c087"
   },
   "outputs": [],
   "source": [
    "#Merging the original df with all the dimensions created to make one large dataset\n",
    "#We treid to ujse the df.merge but got a memory issue\n",
    "#Now using pandas concatenate to merge the file\n",
    "df1 = pd.concat([df, DateDim.date_id, TimeDim.time_id, VictimDim.vic_id, SuspectDim.susp_id,\n",
    "                           OffenseDim.Offense_id, LocationDim.Location_id],axis = 1)"
   ]
  },
  {
   "cell_type": "code",
   "execution_count": null,
   "id": "95921238",
   "metadata": {
    "id": "95921238",
    "outputId": "2b6d71b1-8f3f-40d8-f86e-d220338e3baa"
   },
   "outputs": [
    {
     "data": {
      "text/html": [
       "<div>\n",
       "<style scoped>\n",
       "    .dataframe tbody tr th:only-of-type {\n",
       "        vertical-align: middle;\n",
       "    }\n",
       "\n",
       "    .dataframe tbody tr th {\n",
       "        vertical-align: top;\n",
       "    }\n",
       "\n",
       "    .dataframe thead th {\n",
       "        text-align: right;\n",
       "    }\n",
       "</style>\n",
       "<table border=\"1\" class=\"dataframe\">\n",
       "  <thead>\n",
       "    <tr style=\"text-align: right;\">\n",
       "      <th></th>\n",
       "      <th>cmplnt_num</th>\n",
       "      <th>boro_nm</th>\n",
       "      <th>cmplnt_fr_dt</th>\n",
       "      <th>cmplnt_fr_tm</th>\n",
       "      <th>cmplnt_to_tm</th>\n",
       "      <th>crm_atpt_cptd_cd</th>\n",
       "      <th>law_cat_cd</th>\n",
       "      <th>pd_cd</th>\n",
       "      <th>pd_desc</th>\n",
       "      <th>susp_age_group</th>\n",
       "      <th>...</th>\n",
       "      <th>vic_sex</th>\n",
       "      <th>latitude</th>\n",
       "      <th>longitude</th>\n",
       "      <th>cmplnt_to_dt</th>\n",
       "      <th>date_id</th>\n",
       "      <th>time_id</th>\n",
       "      <th>vic_id</th>\n",
       "      <th>susp_id</th>\n",
       "      <th>Offense_id</th>\n",
       "      <th>Location_id</th>\n",
       "    </tr>\n",
       "  </thead>\n",
       "  <tbody>\n",
       "    <tr>\n",
       "      <th>0</th>\n",
       "      <td>247853895</td>\n",
       "      <td>BRONX</td>\n",
       "      <td>2022-07-11T00:00:00.000</td>\n",
       "      <td>09:09:00</td>\n",
       "      <td>(null)</td>\n",
       "      <td>COMPLETED</td>\n",
       "      <td>FELONY</td>\n",
       "      <td>361</td>\n",
       "      <td>ROBBERY,BANK</td>\n",
       "      <td>25-44</td>\n",
       "      <td>...</td>\n",
       "      <td>D</td>\n",
       "      <td>40.833567</td>\n",
       "      <td>-73.861118</td>\n",
       "      <td>NaN</td>\n",
       "      <td>1000</td>\n",
       "      <td>1000</td>\n",
       "      <td>1</td>\n",
       "      <td>1</td>\n",
       "      <td>100</td>\n",
       "      <td>111000</td>\n",
       "    </tr>\n",
       "    <tr>\n",
       "      <th>1</th>\n",
       "      <td>250722124</td>\n",
       "      <td>BROOKLYN</td>\n",
       "      <td>2021-01-01T00:00:00.000</td>\n",
       "      <td>12:00:00</td>\n",
       "      <td>12:00:00</td>\n",
       "      <td>COMPLETED</td>\n",
       "      <td>FELONY</td>\n",
       "      <td>155</td>\n",
       "      <td>RAPE 2</td>\n",
       "      <td>25-44</td>\n",
       "      <td>...</td>\n",
       "      <td>F</td>\n",
       "      <td>40.6488507469884</td>\n",
       "      <td>-73.951016510623</td>\n",
       "      <td>2022-09-07T00:00:00.000</td>\n",
       "      <td>1001</td>\n",
       "      <td>1001</td>\n",
       "      <td>2</td>\n",
       "      <td>2</td>\n",
       "      <td>101</td>\n",
       "      <td>111001</td>\n",
       "    </tr>\n",
       "    <tr>\n",
       "      <th>2</th>\n",
       "      <td>239511545</td>\n",
       "      <td>STATEN ISLAND</td>\n",
       "      <td>2021-12-24T00:00:00.000</td>\n",
       "      <td>08:00:00</td>\n",
       "      <td>08:00:00</td>\n",
       "      <td>COMPLETED</td>\n",
       "      <td>FELONY</td>\n",
       "      <td>424</td>\n",
       "      <td>LARCENY,GRAND BY CREDIT CARD ACCT COMPROMISE-E...</td>\n",
       "      <td>(null)</td>\n",
       "      <td>...</td>\n",
       "      <td>M</td>\n",
       "      <td>40.619768</td>\n",
       "      <td>-74.08407</td>\n",
       "      <td>2022-01-03T00:00:00.000</td>\n",
       "      <td>1002</td>\n",
       "      <td>1002</td>\n",
       "      <td>3</td>\n",
       "      <td>3</td>\n",
       "      <td>102</td>\n",
       "      <td>111002</td>\n",
       "    </tr>\n",
       "    <tr>\n",
       "      <th>3</th>\n",
       "      <td>247992275</td>\n",
       "      <td>QUEENS</td>\n",
       "      <td>2015-06-15T00:00:00.000</td>\n",
       "      <td>00:01:00</td>\n",
       "      <td>17:00:00</td>\n",
       "      <td>COMPLETED</td>\n",
       "      <td>FELONY</td>\n",
       "      <td>739</td>\n",
       "      <td>FRAUD,UNCLASSIFIED-FELONY</td>\n",
       "      <td>(null)</td>\n",
       "      <td>...</td>\n",
       "      <td>M</td>\n",
       "      <td>40.749791</td>\n",
       "      <td>-73.893792</td>\n",
       "      <td>2022-07-13T00:00:00.000</td>\n",
       "      <td>1003</td>\n",
       "      <td>1003</td>\n",
       "      <td>4</td>\n",
       "      <td>4</td>\n",
       "      <td>103</td>\n",
       "      <td>111003</td>\n",
       "    </tr>\n",
       "    <tr>\n",
       "      <th>4</th>\n",
       "      <td>239602232</td>\n",
       "      <td>BROOKLYN</td>\n",
       "      <td>2018-01-01T00:00:00.000</td>\n",
       "      <td>09:00:00</td>\n",
       "      <td>23:59:00</td>\n",
       "      <td>COMPLETED</td>\n",
       "      <td>FELONY</td>\n",
       "      <td>739</td>\n",
       "      <td>FRAUD,UNCLASSIFIED-FELONY</td>\n",
       "      <td>(null)</td>\n",
       "      <td>...</td>\n",
       "      <td>M</td>\n",
       "      <td>40.671636</td>\n",
       "      <td>-73.863359</td>\n",
       "      <td>2021-04-14T00:00:00.000</td>\n",
       "      <td>1004</td>\n",
       "      <td>1004</td>\n",
       "      <td>5</td>\n",
       "      <td>5</td>\n",
       "      <td>104</td>\n",
       "      <td>111004</td>\n",
       "    </tr>\n",
       "  </tbody>\n",
       "</table>\n",
       "<p>5 rows × 24 columns</p>\n",
       "</div>"
      ],
      "text/plain": [
       "  cmplnt_num        boro_nm             cmplnt_fr_dt cmplnt_fr_tm  \\\n",
       "0  247853895          BRONX  2022-07-11T00:00:00.000     09:09:00   \n",
       "1  250722124       BROOKLYN  2021-01-01T00:00:00.000     12:00:00   \n",
       "2  239511545  STATEN ISLAND  2021-12-24T00:00:00.000     08:00:00   \n",
       "3  247992275         QUEENS  2015-06-15T00:00:00.000     00:01:00   \n",
       "4  239602232       BROOKLYN  2018-01-01T00:00:00.000     09:00:00   \n",
       "\n",
       "  cmplnt_to_tm crm_atpt_cptd_cd law_cat_cd pd_cd  \\\n",
       "0       (null)        COMPLETED     FELONY   361   \n",
       "1     12:00:00        COMPLETED     FELONY   155   \n",
       "2     08:00:00        COMPLETED     FELONY   424   \n",
       "3     17:00:00        COMPLETED     FELONY   739   \n",
       "4     23:59:00        COMPLETED     FELONY   739   \n",
       "\n",
       "                                             pd_desc susp_age_group  ...  \\\n",
       "0                                       ROBBERY,BANK          25-44  ...   \n",
       "1                                             RAPE 2          25-44  ...   \n",
       "2  LARCENY,GRAND BY CREDIT CARD ACCT COMPROMISE-E...         (null)  ...   \n",
       "3                          FRAUD,UNCLASSIFIED-FELONY         (null)  ...   \n",
       "4                          FRAUD,UNCLASSIFIED-FELONY         (null)  ...   \n",
       "\n",
       "  vic_sex          latitude         longitude             cmplnt_to_dt  \\\n",
       "0       D         40.833567        -73.861118                      NaN   \n",
       "1       F  40.6488507469884  -73.951016510623  2022-09-07T00:00:00.000   \n",
       "2       M         40.619768         -74.08407  2022-01-03T00:00:00.000   \n",
       "3       M         40.749791        -73.893792  2022-07-13T00:00:00.000   \n",
       "4       M         40.671636        -73.863359  2021-04-14T00:00:00.000   \n",
       "\n",
       "  date_id time_id vic_id susp_id  Offense_id  Location_id  \n",
       "0    1000    1000      1       1         100       111000  \n",
       "1    1001    1001      2       2         101       111001  \n",
       "2    1002    1002      3       3         102       111002  \n",
       "3    1003    1003      4       4         103       111003  \n",
       "4    1004    1004      5       5         104       111004  \n",
       "\n",
       "[5 rows x 24 columns]"
      ]
     },
     "execution_count": 78,
     "metadata": {},
     "output_type": "execute_result"
    }
   ],
   "source": [
    "df1.head()"
   ]
  },
  {
   "cell_type": "code",
   "execution_count": null,
   "id": "cfbba457",
   "metadata": {
    "id": "cfbba457",
    "outputId": "346382a0-86fc-471b-8b0f-ce09b7e8099b"
   },
   "outputs": [
    {
     "data": {
      "text/html": [
       "<div>\n",
       "<style scoped>\n",
       "    .dataframe tbody tr th:only-of-type {\n",
       "        vertical-align: middle;\n",
       "    }\n",
       "\n",
       "    .dataframe tbody tr th {\n",
       "        vertical-align: top;\n",
       "    }\n",
       "\n",
       "    .dataframe thead th {\n",
       "        text-align: right;\n",
       "    }\n",
       "</style>\n",
       "<table border=\"1\" class=\"dataframe\">\n",
       "  <thead>\n",
       "    <tr style=\"text-align: right;\">\n",
       "      <th></th>\n",
       "      <th>crm_atpt_cptd_cd</th>\n",
       "      <th>date_id</th>\n",
       "      <th>time_id</th>\n",
       "      <th>vic_id</th>\n",
       "      <th>susp_id</th>\n",
       "      <th>Offense_id</th>\n",
       "      <th>Location_id</th>\n",
       "    </tr>\n",
       "  </thead>\n",
       "  <tbody>\n",
       "    <tr>\n",
       "      <th>0</th>\n",
       "      <td>COMPLETED</td>\n",
       "      <td>1000</td>\n",
       "      <td>1000</td>\n",
       "      <td>1</td>\n",
       "      <td>1</td>\n",
       "      <td>100</td>\n",
       "      <td>111000</td>\n",
       "    </tr>\n",
       "    <tr>\n",
       "      <th>1</th>\n",
       "      <td>COMPLETED</td>\n",
       "      <td>1001</td>\n",
       "      <td>1001</td>\n",
       "      <td>2</td>\n",
       "      <td>2</td>\n",
       "      <td>101</td>\n",
       "      <td>111001</td>\n",
       "    </tr>\n",
       "    <tr>\n",
       "      <th>2</th>\n",
       "      <td>COMPLETED</td>\n",
       "      <td>1002</td>\n",
       "      <td>1002</td>\n",
       "      <td>3</td>\n",
       "      <td>3</td>\n",
       "      <td>102</td>\n",
       "      <td>111002</td>\n",
       "    </tr>\n",
       "    <tr>\n",
       "      <th>3</th>\n",
       "      <td>COMPLETED</td>\n",
       "      <td>1003</td>\n",
       "      <td>1003</td>\n",
       "      <td>4</td>\n",
       "      <td>4</td>\n",
       "      <td>103</td>\n",
       "      <td>111003</td>\n",
       "    </tr>\n",
       "    <tr>\n",
       "      <th>4</th>\n",
       "      <td>COMPLETED</td>\n",
       "      <td>1004</td>\n",
       "      <td>1004</td>\n",
       "      <td>5</td>\n",
       "      <td>5</td>\n",
       "      <td>104</td>\n",
       "      <td>111004</td>\n",
       "    </tr>\n",
       "  </tbody>\n",
       "</table>\n",
       "</div>"
      ],
      "text/plain": [
       "  crm_atpt_cptd_cd  date_id  time_id  vic_id  susp_id  Offense_id  Location_id\n",
       "0        COMPLETED     1000     1000       1        1         100       111000\n",
       "1        COMPLETED     1001     1001       2        2         101       111001\n",
       "2        COMPLETED     1002     1002       3        3         102       111002\n",
       "3        COMPLETED     1003     1003       4        4         103       111003\n",
       "4        COMPLETED     1004     1004       5        5         104       111004"
      ]
     },
     "execution_count": 79,
     "metadata": {},
     "output_type": "execute_result"
    }
   ],
   "source": [
    "#Now, we create the fact table (CrimeComplaints)\n",
    "CrimeComplaints_fact = df1[[\"crm_atpt_cptd_cd\", \"date_id\", \"time_id\", \"vic_id\", \"susp_id\",\n",
    "                           \"Offense_id\", \"Location_id\"]]\n",
    "CrimeComplaints_fact.head()"
   ]
  },
  {
   "cell_type": "code",
   "execution_count": null,
   "id": "bd5414e4",
   "metadata": {
    "id": "bd5414e4"
   },
   "outputs": [],
   "source": [
    "#created a function to load dataframes to BigQuery\n",
    "\n",
    "def load_table_to_bigquery(df,\n",
    "                          table_name,\n",
    "                          dataset_id):\n",
    "\n",
    "    dataset_id = dataset_id\n",
    "\n",
    "    dataset_ref = bigquery_client.dataset(dataset_id)\n",
    "    job_config = bigquery.LoadJobConfig()\n",
    "    job_config.autodetect = True\n",
    "    job_config.write_disposition = \"WRITE_TRUNCATE\"\n",
    "\n",
    "    upload_table_name = f\"{dataset_id}.{table_name}\"\n",
    "\n",
    "    load_job = bigquery_client.load_table_from_dataframe(df,\n",
    "                                                upload_table_name,\n",
    "                                                job_config = job_config)\n",
    "\n",
    "    print(f\"completed job {load_job}\")"
   ]
  },
  {
   "cell_type": "code",
   "execution_count": null,
   "id": "83f1c6d6",
   "metadata": {
    "id": "83f1c6d6",
    "outputId": "6d11ec1a-c25c-4efe-b24f-0813d8a1de45"
   },
   "outputs": [
    {
     "name": "stdout",
     "output_type": "stream",
     "text": [
      "completed job LoadJob<project=pro-bruin-361120, location=US, id=c172b21d-cb92-4858-96f1-fb0859a8136a>\n"
     ]
    }
   ],
   "source": [
    "#1st loading CrimeComplaints_fact table to BigQuery\n",
    "\n",
    "load_table_to_bigquery(df = CrimeComplaints_fact,\n",
    "                          table_name = \"CrimeComplaints_fact\",\n",
    "                          dataset_id = dataset_id)"
   ]
  },
  {
   "cell_type": "code",
   "execution_count": null,
   "id": "a4c2c1d6",
   "metadata": {
    "id": "a4c2c1d6",
    "outputId": "db9dd2d6-09e2-476e-9339-a128a8fea868"
   },
   "outputs": [
    {
     "name": "stdout",
     "output_type": "stream",
     "text": [
      "completed job LoadJob<project=pro-bruin-361120, location=US, id=5c3ccd63-26d7-4d11-b257-cbc4508e22cf>\n"
     ]
    }
   ],
   "source": [
    "#loading SuspectDim table to BigQuery\n",
    "\n",
    "load_table_to_bigquery(df = SuspectDim,\n",
    "                          table_name = \"SuspectDim\",\n",
    "                          dataset_id = dataset_id)"
   ]
  },
  {
   "cell_type": "code",
   "execution_count": null,
   "id": "ad48dff6",
   "metadata": {
    "id": "ad48dff6",
    "outputId": "4555c35f-bc28-401a-9e97-b58f40dd6458"
   },
   "outputs": [
    {
     "name": "stdout",
     "output_type": "stream",
     "text": [
      "completed job LoadJob<project=pro-bruin-361120, location=US, id=20f08858-67e4-40ba-bc05-b901768a941e>\n"
     ]
    }
   ],
   "source": [
    "#loading VictimDim table to BigQuery\n",
    "\n",
    "load_table_to_bigquery(df = VictimDim,\n",
    "                          table_name = \"VictimDim\",\n",
    "                          dataset_id = dataset_id)"
   ]
  },
  {
   "cell_type": "code",
   "execution_count": null,
   "id": "08ddc309",
   "metadata": {
    "id": "08ddc309",
    "outputId": "939d9628-0e04-482c-f77b-1ccc736a7486"
   },
   "outputs": [
    {
     "name": "stdout",
     "output_type": "stream",
     "text": [
      "completed job LoadJob<project=pro-bruin-361120, location=US, id=98e4c2a6-2967-4776-8b6e-984b8eecf5b4>\n"
     ]
    }
   ],
   "source": [
    "#loading DateDim table to BigQuery\n",
    "\n",
    "load_table_to_bigquery(df = DateDim,\n",
    "                          table_name = \"DateDim\",\n",
    "                          dataset_id = dataset_id)"
   ]
  },
  {
   "cell_type": "code",
   "execution_count": null,
   "id": "6d473f09",
   "metadata": {
    "id": "6d473f09",
    "outputId": "b92427b2-752b-4c5b-cb44-ff6b4050f352"
   },
   "outputs": [
    {
     "name": "stdout",
     "output_type": "stream",
     "text": [
      "completed job LoadJob<project=pro-bruin-361120, location=US, id=8124484c-13b6-4fbc-ae65-322bff2b0d70>\n"
     ]
    }
   ],
   "source": [
    "#loading TimeDim table to BigQuery\n",
    "\n",
    "load_table_to_bigquery(df = TimeDim,\n",
    "                          table_name = \"TimeDim\",\n",
    "                          dataset_id = dataset_id)"
   ]
  },
  {
   "cell_type": "code",
   "execution_count": null,
   "id": "5af669db",
   "metadata": {
    "id": "5af669db",
    "outputId": "f8d6c8ac-badf-49e9-e15b-6e0e84261bf5"
   },
   "outputs": [
    {
     "name": "stdout",
     "output_type": "stream",
     "text": [
      "completed job LoadJob<project=pro-bruin-361120, location=US, id=618f2536-6244-4295-8960-73360e910d54>\n"
     ]
    }
   ],
   "source": [
    "#loading OffenseDim table to BigQuery\n",
    "\n",
    "load_table_to_bigquery(df = OffenseDim,\n",
    "                          table_name = \"OffenseDim\",\n",
    "                          dataset_id = dataset_id)"
   ]
  },
  {
   "cell_type": "code",
   "execution_count": null,
   "id": "e35c6bf0",
   "metadata": {
    "id": "e35c6bf0",
    "outputId": "c1b8a3d1-fd65-49aa-9fc6-1ae70475e411"
   },
   "outputs": [
    {
     "name": "stdout",
     "output_type": "stream",
     "text": [
      "completed job LoadJob<project=pro-bruin-361120, location=US, id=24540c54-4fc7-4364-a27c-6cbf04f22b26>\n"
     ]
    }
   ],
   "source": [
    "#loading LocationDim table to BigQuery\n",
    "\n",
    "load_table_to_bigquery(df = LocationDim,\n",
    "                          table_name = \"LocationDim\",\n",
    "                          dataset_id = dataset_id)"
   ]
  },
  {
   "cell_type": "markdown",
   "id": "eea3b0bc",
   "metadata": {
    "id": "eea3b0bc"
   },
   "source": [
    "# Done: Loaded all Dimensions and Tables to BigQuery"
   ]
  }
 ],
 "metadata": {
  "colab": {
   "provenance": []
  },
  "kernelspec": {
   "display_name": "Python 3 (ipykernel)",
   "language": "python",
   "name": "python3"
  },
  "language_info": {
   "codemirror_mode": {
    "name": "ipython",
    "version": 3
   },
   "file_extension": ".py",
   "mimetype": "text/x-python",
   "name": "python",
   "nbconvert_exporter": "python",
   "pygments_lexer": "ipython3",
   "version": "3.9.12"
  }
 },
 "nbformat": 4,
 "nbformat_minor": 5
}
